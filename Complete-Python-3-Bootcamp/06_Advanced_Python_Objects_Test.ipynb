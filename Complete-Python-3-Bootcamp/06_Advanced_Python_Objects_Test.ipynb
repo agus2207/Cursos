{
  "nbformat": 4,
  "nbformat_minor": 0,
  "metadata": {
    "kernelspec": {
      "display_name": "Python 3",
      "language": "python",
      "name": "python3"
    },
    "language_info": {
      "codemirror_mode": {
        "name": "ipython",
        "version": 3
      },
      "file_extension": ".py",
      "mimetype": "text/x-python",
      "name": "python",
      "nbconvert_exporter": "python",
      "pygments_lexer": "ipython3",
      "version": "3.6.2"
    },
    "colab": {
      "name": "06-Advanced Python Objects Test.ipynb",
      "provenance": [],
      "include_colab_link": true
    }
  },
  "cells": [
    {
      "cell_type": "markdown",
      "metadata": {
        "id": "view-in-github",
        "colab_type": "text"
      },
      "source": [
        "<a href=\"https://colab.research.google.com/github/agus2207/Cursos/blob/master/Complete-Python-3-Bootcamp/06_Advanced_Python_Objects_Test.ipynb\" target=\"_parent\"><img src=\"https://colab.research.google.com/assets/colab-badge.svg\" alt=\"Open In Colab\"/></a>"
      ]
    },
    {
      "cell_type": "markdown",
      "metadata": {
        "id": "Phjrxx_UO0zg"
      },
      "source": [
        "# Advanced Python Objects Test"
      ]
    },
    {
      "cell_type": "markdown",
      "metadata": {
        "id": "JkJwhOkTO0zi"
      },
      "source": [
        "## Advanced Numbers\n",
        "\n",
        "**Problem 1: Convert 1024 to binary and hexadecimal representation**"
      ]
    },
    {
      "cell_type": "code",
      "metadata": {
        "colab": {
          "base_uri": "https://localhost:8080/"
        },
        "id": "mb4KLpVDO0zj",
        "outputId": "b582c3c8-4788-4e14-c5a4-5ec0de9cb363"
      },
      "source": [
        "print(bin(1024))\n",
        "print(hex(1024))"
      ],
      "execution_count": 1,
      "outputs": [
        {
          "output_type": "stream",
          "text": [
            "0b10000000000\n",
            "0x400\n"
          ],
          "name": "stdout"
        }
      ]
    },
    {
      "cell_type": "markdown",
      "metadata": {
        "id": "un8_1wpBO0zj"
      },
      "source": [
        "**Problem 2: Round 5.23222 to two decimal places**"
      ]
    },
    {
      "cell_type": "code",
      "metadata": {
        "colab": {
          "base_uri": "https://localhost:8080/"
        },
        "id": "jWaVLmU9O0zk",
        "outputId": "fa9ffc13-d961-4032-a0a5-8fbe422c8e60"
      },
      "source": [
        "round(5.23222, 2)"
      ],
      "execution_count": 2,
      "outputs": [
        {
          "output_type": "execute_result",
          "data": {
            "text/plain": [
              "5.23"
            ]
          },
          "metadata": {
            "tags": []
          },
          "execution_count": 2
        }
      ]
    },
    {
      "cell_type": "markdown",
      "metadata": {
        "id": "AXVHIVH7O0zk"
      },
      "source": [
        "## Advanced Strings\n",
        "**Problem 3: Check if every letter in the string s is lower case**"
      ]
    },
    {
      "cell_type": "code",
      "metadata": {
        "colab": {
          "base_uri": "https://localhost:8080/"
        },
        "id": "bamHpul6O0zk",
        "outputId": "e794c3eb-ebe5-44ea-b9ad-0da666483bac"
      },
      "source": [
        "s = 'hello how are you Mary, are you feeling okay?'\n",
        "s.islower()"
      ],
      "execution_count": 3,
      "outputs": [
        {
          "output_type": "execute_result",
          "data": {
            "text/plain": [
              "False"
            ]
          },
          "metadata": {
            "tags": []
          },
          "execution_count": 3
        }
      ]
    },
    {
      "cell_type": "markdown",
      "metadata": {
        "id": "408RfRiWO0zl"
      },
      "source": [
        "**Problem 4: How many times does the letter 'w' show up in the string below?**"
      ]
    },
    {
      "cell_type": "code",
      "metadata": {
        "colab": {
          "base_uri": "https://localhost:8080/"
        },
        "id": "odnvJvS7O0zl",
        "outputId": "25e1eaf0-6e2d-45c6-afc6-847a59886c65"
      },
      "source": [
        "s = 'twywywtwywbwhsjhwuwshshwuwwwjdjdid'\n",
        "s.count('w')"
      ],
      "execution_count": 4,
      "outputs": [
        {
          "output_type": "execute_result",
          "data": {
            "text/plain": [
              "12"
            ]
          },
          "metadata": {
            "tags": []
          },
          "execution_count": 4
        }
      ]
    },
    {
      "cell_type": "markdown",
      "metadata": {
        "id": "OAPb7Du4O0zl"
      },
      "source": [
        "## Advanced Sets\n",
        "**Problem 5: Find the elements in set1 that are not in set2:**"
      ]
    },
    {
      "cell_type": "code",
      "metadata": {
        "colab": {
          "base_uri": "https://localhost:8080/"
        },
        "id": "xpB_6BTNO0zm",
        "outputId": "9ab856fb-7d04-4715-cd03-c000c42aa307"
      },
      "source": [
        "set1 = {2,3,1,5,6,8}\n",
        "set2 = {3,1,7,5,6,8}\n",
        "set1.difference(set2)"
      ],
      "execution_count": 5,
      "outputs": [
        {
          "output_type": "execute_result",
          "data": {
            "text/plain": [
              "{2}"
            ]
          },
          "metadata": {
            "tags": []
          },
          "execution_count": 5
        }
      ]
    },
    {
      "cell_type": "markdown",
      "metadata": {
        "id": "W5vfBENAO0zm"
      },
      "source": [
        "**Problem 6: Find all elements that are in either set:**"
      ]
    },
    {
      "cell_type": "code",
      "metadata": {
        "colab": {
          "base_uri": "https://localhost:8080/"
        },
        "id": "y42fU8jlO0zn",
        "outputId": "8abd1860-eabd-40e3-d741-f9e9aeb62e6c"
      },
      "source": [
        "set1.union(set2)"
      ],
      "execution_count": 6,
      "outputs": [
        {
          "output_type": "execute_result",
          "data": {
            "text/plain": [
              "{1, 2, 3, 5, 6, 7, 8}"
            ]
          },
          "metadata": {
            "tags": []
          },
          "execution_count": 6
        }
      ]
    },
    {
      "cell_type": "markdown",
      "metadata": {
        "id": "AcDhNgkNO0zn"
      },
      "source": [
        "## Advanced Dictionaries\n",
        "\n",
        "**Problem 7: Create this dictionary:\n",
        "{0: 0, 1: 1, 2: 8, 3: 27, 4: 64}\n",
        " using a dictionary comprehension.**"
      ]
    },
    {
      "cell_type": "code",
      "metadata": {
        "colab": {
          "base_uri": "https://localhost:8080/"
        },
        "id": "M0a3GJwlO0zn",
        "outputId": "d27946bb-d754-49fe-efb5-1610ac1037af"
      },
      "source": [
        "{x:x**3 for x in range(5)}"
      ],
      "execution_count": 7,
      "outputs": [
        {
          "output_type": "execute_result",
          "data": {
            "text/plain": [
              "{0: 0, 1: 1, 2: 8, 3: 27, 4: 64}"
            ]
          },
          "metadata": {
            "tags": []
          },
          "execution_count": 7
        }
      ]
    },
    {
      "cell_type": "markdown",
      "metadata": {
        "id": "6_48QQLaO0zo"
      },
      "source": [
        "## Advanced Lists\n",
        "\n",
        "**Problem 8: Reverse the list below:**"
      ]
    },
    {
      "cell_type": "code",
      "metadata": {
        "colab": {
          "base_uri": "https://localhost:8080/"
        },
        "id": "XiwfMGYXO0zo",
        "outputId": "425bfc1a-604a-4bea-a1ae-6df797c88d0a"
      },
      "source": [
        "list1 = [1,2,3,4]\n",
        "list1.reverse()\n",
        "list1"
      ],
      "execution_count": 8,
      "outputs": [
        {
          "output_type": "execute_result",
          "data": {
            "text/plain": [
              "[4, 3, 2, 1]"
            ]
          },
          "metadata": {
            "tags": []
          },
          "execution_count": 8
        }
      ]
    },
    {
      "cell_type": "markdown",
      "metadata": {
        "id": "2hVbzjtZO0zp"
      },
      "source": [
        "**Problem 9: Sort the list below:**"
      ]
    },
    {
      "cell_type": "code",
      "metadata": {
        "colab": {
          "base_uri": "https://localhost:8080/"
        },
        "id": "MLLSDNkAO0zp",
        "outputId": "b5716cb8-cee3-4a14-97b6-5db1e4e950ae"
      },
      "source": [
        "list2 = [3,4,2,5,1]\n",
        "list2.sort()\n",
        "list2"
      ],
      "execution_count": 9,
      "outputs": [
        {
          "output_type": "execute_result",
          "data": {
            "text/plain": [
              "[1, 2, 3, 4, 5]"
            ]
          },
          "metadata": {
            "tags": []
          },
          "execution_count": 9
        }
      ]
    },
    {
      "cell_type": "markdown",
      "metadata": {
        "id": "CEX6eA3IO0zp"
      },
      "source": [
        "# Great Job!"
      ]
    }
  ]
}