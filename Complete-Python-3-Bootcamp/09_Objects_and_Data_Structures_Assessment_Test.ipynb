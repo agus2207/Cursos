{
  "nbformat": 4,
  "nbformat_minor": 0,
  "metadata": {
    "anaconda-cloud": {},
    "kernelspec": {
      "display_name": "Python 3",
      "language": "python",
      "name": "python3"
    },
    "language_info": {
      "codemirror_mode": {
        "name": "ipython",
        "version": 3
      },
      "file_extension": ".py",
      "mimetype": "text/x-python",
      "name": "python",
      "nbconvert_exporter": "python",
      "pygments_lexer": "ipython3",
      "version": "3.6.6"
    },
    "colab": {
      "name": "09-Objects and Data Structures Assessment Test.ipynb",
      "provenance": [],
      "include_colab_link": true
    }
  },
  "cells": [
    {
      "cell_type": "markdown",
      "metadata": {
        "id": "view-in-github",
        "colab_type": "text"
      },
      "source": [
        "<a href=\"https://colab.research.google.com/github/agus2207/Cursos/blob/master/Complete-Python-3-Bootcamp/09_Objects_and_Data_Structures_Assessment_Test.ipynb\" target=\"_parent\"><img src=\"https://colab.research.google.com/assets/colab-badge.svg\" alt=\"Open In Colab\"/></a>"
      ]
    },
    {
      "cell_type": "markdown",
      "metadata": {
        "id": "mO8ygWba13vR"
      },
      "source": [
        "___\n",
        "\n",
        "<a href='https://www.udemy.com/user/joseportilla/'><img src='../Pierian_Data_Logo.png'/></a>\n",
        "___\n",
        "<center><em>Content Copyright by Pierian Data</em></center>\n",
        "# Objects and Data Structures Assessment Test"
      ]
    },
    {
      "cell_type": "markdown",
      "metadata": {
        "collapsed": true,
        "id": "ciLCGf1L13vV"
      },
      "source": [
        "## Test your knowledge. \n",
        "\n",
        "** Answer the following questions **"
      ]
    },
    {
      "cell_type": "markdown",
      "metadata": {
        "collapsed": true,
        "id": "bBsbE1_f13vX"
      },
      "source": [
        "Write (or just say out loud to yourself) a brief description of all the following Object Types and Data Structures we've learned about. You can edit the cell below by double clicking on it. Really this is just to test if you know the difference between these, so feel free to just think about it, since your answers are self-graded."
      ]
    },
    {
      "cell_type": "markdown",
      "metadata": {
        "id": "8CK90FXY13vX"
      },
      "source": [
        "Double Click HERE to edit this markdown cell and write answers.\n",
        "\n",
        "Numbers: They store integers and floats \n",
        "\n",
        "Strings: They are inmutable variables\n",
        "\n",
        "Lists: They are mutable variables and we can order them\n",
        "\n",
        "Tuples: They are immutable list \n",
        "\n",
        "Dictionaries: They are key-value variables\n"
      ]
    },
    {
      "cell_type": "markdown",
      "metadata": {
        "id": "x4DW1KNl13vY"
      },
      "source": [
        "## Numbers\n",
        "\n",
        "Write an equation that uses multiplication, division, an exponent, addition, and subtraction that is equal to 100.25.\n",
        "\n",
        "Hint: This is just to test your memory of the basic arithmetic commands, work backwards from 100.25"
      ]
    },
    {
      "cell_type": "code",
      "metadata": {
        "collapsed": true,
        "colab": {
          "base_uri": "https://localhost:8080/"
        },
        "id": "hWjAcRc013vY",
        "outputId": "71e8eb07-9fca-443d-f6b2-6b9e1fdc55fd"
      },
      "source": [
        "((10**3)/100)*10+1-0.75"
      ],
      "execution_count": 12,
      "outputs": [
        {
          "output_type": "execute_result",
          "data": {
            "text/plain": [
              "100.25"
            ]
          },
          "metadata": {
            "tags": []
          },
          "execution_count": 12
        }
      ]
    },
    {
      "cell_type": "markdown",
      "metadata": {
        "id": "wSshbkZ713vZ"
      },
      "source": [
        "Answer these 3 questions without typing code. Then type code to check your answer.\n",
        "\n",
        "    What is the value of the expression 4 * (6 + 5)\n",
        "    \n",
        "    What is the value of the expression 4 * 6 + 5 \n",
        "    \n",
        "    What is the value of the expression 4 + 6 * 5 "
      ]
    },
    {
      "cell_type": "code",
      "metadata": {
        "collapsed": true,
        "colab": {
          "base_uri": "https://localhost:8080/"
        },
        "id": "P-c18b_x13va",
        "outputId": "cb6592cd-5029-40b3-c346-9a1146557f8e"
      },
      "source": [
        "4*(6+5)"
      ],
      "execution_count": 36,
      "outputs": [
        {
          "output_type": "execute_result",
          "data": {
            "text/plain": [
              "44"
            ]
          },
          "metadata": {
            "tags": []
          },
          "execution_count": 36
        }
      ]
    },
    {
      "cell_type": "code",
      "metadata": {
        "colab": {
          "base_uri": "https://localhost:8080/"
        },
        "id": "HoekctD7Ci6F",
        "outputId": "5fc55dda-8f8f-488f-c577-03a670440150"
      },
      "source": [
        "4*6+5"
      ],
      "execution_count": 37,
      "outputs": [
        {
          "output_type": "execute_result",
          "data": {
            "text/plain": [
              "29"
            ]
          },
          "metadata": {
            "tags": []
          },
          "execution_count": 37
        }
      ]
    },
    {
      "cell_type": "code",
      "metadata": {
        "colab": {
          "base_uri": "https://localhost:8080/"
        },
        "id": "TYlvV6M1CjJ4",
        "outputId": "d589a18b-53c5-45c6-873a-a20958993321"
      },
      "source": [
        "4+6*5"
      ],
      "execution_count": 38,
      "outputs": [
        {
          "output_type": "execute_result",
          "data": {
            "text/plain": [
              "34"
            ]
          },
          "metadata": {
            "tags": []
          },
          "execution_count": 38
        }
      ]
    },
    {
      "cell_type": "markdown",
      "metadata": {
        "id": "3leMDQIc13va"
      },
      "source": [
        "What is the *type* of the result of the expression 3 + 1.5 + 4?<br><br>\n",
        "float"
      ]
    },
    {
      "cell_type": "markdown",
      "metadata": {
        "id": "Jz4Dxa4E13vb"
      },
      "source": [
        "What would you use to find a number’s square root, as well as its square? "
      ]
    },
    {
      "cell_type": "code",
      "metadata": {
        "collapsed": true,
        "colab": {
          "base_uri": "https://localhost:8080/"
        },
        "id": "aBk9zn7D13vc",
        "outputId": "7c234eee-35f6-4245-d293-98de1170d053"
      },
      "source": [
        "# Square root:\n",
        "9**(1/2)"
      ],
      "execution_count": 7,
      "outputs": [
        {
          "output_type": "execute_result",
          "data": {
            "text/plain": [
              "3.0"
            ]
          },
          "metadata": {
            "tags": []
          },
          "execution_count": 7
        }
      ]
    },
    {
      "cell_type": "code",
      "metadata": {
        "collapsed": true,
        "colab": {
          "base_uri": "https://localhost:8080/"
        },
        "id": "S-pOkAHL13vc",
        "outputId": "0d48c085-34bf-4a02-8e39-4e02a012131b"
      },
      "source": [
        "# Square:\n",
        "2**2"
      ],
      "execution_count": 8,
      "outputs": [
        {
          "output_type": "execute_result",
          "data": {
            "text/plain": [
              "4"
            ]
          },
          "metadata": {
            "tags": []
          },
          "execution_count": 8
        }
      ]
    },
    {
      "cell_type": "markdown",
      "metadata": {
        "id": "f_8tV7aM13vd"
      },
      "source": [
        "## Strings"
      ]
    },
    {
      "cell_type": "markdown",
      "metadata": {
        "id": "2DcUtHHZ13vd"
      },
      "source": [
        "Given the string 'hello' give an index command that returns 'e'. Enter your code in the cell below:"
      ]
    },
    {
      "cell_type": "code",
      "metadata": {
        "collapsed": true,
        "colab": {
          "base_uri": "https://localhost:8080/",
          "height": 58
        },
        "id": "qCHpcVsZ13ve",
        "outputId": "4e9b6e19-4c39-4020-cb08-ed0217a3e637"
      },
      "source": [
        "s = 'hello'\n",
        "# Print out 'e' using indexing\n",
        "s[1]\n"
      ],
      "execution_count": 2,
      "outputs": [
        {
          "output_type": "execute_result",
          "data": {
            "application/vnd.google.colaboratory.intrinsic+json": {
              "type": "string"
            },
            "text/plain": [
              "'e'"
            ]
          },
          "metadata": {
            "tags": []
          },
          "execution_count": 2
        }
      ]
    },
    {
      "cell_type": "markdown",
      "metadata": {
        "id": "bT8y4L1Q13ve"
      },
      "source": [
        "Reverse the string 'hello' using slicing:"
      ]
    },
    {
      "cell_type": "code",
      "metadata": {
        "collapsed": true,
        "colab": {
          "base_uri": "https://localhost:8080/",
          "height": 58
        },
        "id": "Xx4B92yx13vf",
        "outputId": "2ec4acf9-d8d5-413c-cf3e-d78548be681c"
      },
      "source": [
        "s ='hello'\n",
        "# Reverse the string using slicing\n",
        "s[::-1]\n"
      ],
      "execution_count": 6,
      "outputs": [
        {
          "output_type": "execute_result",
          "data": {
            "application/vnd.google.colaboratory.intrinsic+json": {
              "type": "string"
            },
            "text/plain": [
              "'olleh'"
            ]
          },
          "metadata": {
            "tags": []
          },
          "execution_count": 6
        }
      ]
    },
    {
      "cell_type": "markdown",
      "metadata": {
        "id": "1u0qXXN_13vf"
      },
      "source": [
        "Given the string hello, give two methods of producing the letter 'o' using indexing."
      ]
    },
    {
      "cell_type": "code",
      "metadata": {
        "collapsed": true,
        "colab": {
          "base_uri": "https://localhost:8080/",
          "height": 58
        },
        "id": "t99aOo1O13vi",
        "outputId": "a137ca34-7d80-4929-f09a-0805ef95933b"
      },
      "source": [
        "s ='hello'\n",
        "# Print out the 'o'\n",
        "\n",
        "# Method 1:\n",
        "s[-1]\n"
      ],
      "execution_count": 13,
      "outputs": [
        {
          "output_type": "execute_result",
          "data": {
            "application/vnd.google.colaboratory.intrinsic+json": {
              "type": "string"
            },
            "text/plain": [
              "'o'"
            ]
          },
          "metadata": {
            "tags": []
          },
          "execution_count": 13
        }
      ]
    },
    {
      "cell_type": "code",
      "metadata": {
        "collapsed": true,
        "colab": {
          "base_uri": "https://localhost:8080/",
          "height": 58
        },
        "id": "jnHtENRa13vj",
        "outputId": "1836a6dd-3ca6-4814-c05d-287268ac7f25"
      },
      "source": [
        "# Method 2:\n",
        "s[4]\n"
      ],
      "execution_count": 14,
      "outputs": [
        {
          "output_type": "execute_result",
          "data": {
            "application/vnd.google.colaboratory.intrinsic+json": {
              "type": "string"
            },
            "text/plain": [
              "'o'"
            ]
          },
          "metadata": {
            "tags": []
          },
          "execution_count": 14
        }
      ]
    },
    {
      "cell_type": "markdown",
      "metadata": {
        "id": "6Q9MHF6513vk"
      },
      "source": [
        "## Lists"
      ]
    },
    {
      "cell_type": "markdown",
      "metadata": {
        "id": "ee4w3P6X13vl"
      },
      "source": [
        "Build this list [0,0,0] two separate ways."
      ]
    },
    {
      "cell_type": "code",
      "metadata": {
        "collapsed": true,
        "colab": {
          "base_uri": "https://localhost:8080/"
        },
        "id": "uEkmpcfO13vm",
        "outputId": "3e90f8a2-4e36-4ebb-a8c7-b85b8aea5a8d"
      },
      "source": [
        "# Method 1:\n",
        "my_list = [0,0,0]\n",
        "my_list"
      ],
      "execution_count": 16,
      "outputs": [
        {
          "output_type": "execute_result",
          "data": {
            "text/plain": [
              "[0, 0, 0]"
            ]
          },
          "metadata": {
            "tags": []
          },
          "execution_count": 16
        }
      ]
    },
    {
      "cell_type": "code",
      "metadata": {
        "collapsed": true,
        "colab": {
          "base_uri": "https://localhost:8080/"
        },
        "id": "Qn2V33oA13vn",
        "outputId": "b23fe0bb-7a05-4b09-9ed2-ceba6f2c16e0"
      },
      "source": [
        "# Method 2:\n",
        "[0]*3"
      ],
      "execution_count": 39,
      "outputs": [
        {
          "output_type": "execute_result",
          "data": {
            "text/plain": [
              "[0, 0, 0]"
            ]
          },
          "metadata": {
            "tags": []
          },
          "execution_count": 39
        }
      ]
    },
    {
      "cell_type": "markdown",
      "metadata": {
        "id": "w1MMIOa313vo"
      },
      "source": [
        "Reassign 'hello' in this nested list to say 'goodbye' instead:"
      ]
    },
    {
      "cell_type": "code",
      "metadata": {
        "collapsed": true,
        "colab": {
          "base_uri": "https://localhost:8080/"
        },
        "id": "DwAK8YMQ13vp",
        "outputId": "d1f9c9f7-c48d-40eb-e95c-14d538566485"
      },
      "source": [
        "list3 = [1,2,[3,4,'hello']]\n",
        "list3[2][2] = 'goodbye'\n",
        "list3"
      ],
      "execution_count": 19,
      "outputs": [
        {
          "output_type": "execute_result",
          "data": {
            "text/plain": [
              "[1, 2, [3, 4, 'goodbye']]"
            ]
          },
          "metadata": {
            "tags": []
          },
          "execution_count": 19
        }
      ]
    },
    {
      "cell_type": "markdown",
      "metadata": {
        "id": "-u2iRMtE13vq"
      },
      "source": [
        "Sort the list below:"
      ]
    },
    {
      "cell_type": "code",
      "metadata": {
        "collapsed": true,
        "colab": {
          "base_uri": "https://localhost:8080/"
        },
        "id": "gnQTRG9J13vq",
        "outputId": "6aca1ef6-4306-4dfb-ddc4-06b084a090fa"
      },
      "source": [
        "list4 = [5,3,4,6,1]\n",
        "list4.sort()\n",
        "list4"
      ],
      "execution_count": 21,
      "outputs": [
        {
          "output_type": "execute_result",
          "data": {
            "text/plain": [
              "[1, 3, 4, 5, 6]"
            ]
          },
          "metadata": {
            "tags": []
          },
          "execution_count": 21
        }
      ]
    },
    {
      "cell_type": "markdown",
      "metadata": {
        "id": "0kXA7Tt513vr"
      },
      "source": [
        "## Dictionaries"
      ]
    },
    {
      "cell_type": "markdown",
      "metadata": {
        "id": "mxD05bO313vr"
      },
      "source": [
        "Using keys and indexing, grab the 'hello' from the following dictionaries:"
      ]
    },
    {
      "cell_type": "code",
      "metadata": {
        "collapsed": true,
        "colab": {
          "base_uri": "https://localhost:8080/",
          "height": 58
        },
        "id": "s8riMQED13vr",
        "outputId": "036b2370-a14e-43af-fa99-15350c00e93d"
      },
      "source": [
        "d = {'simple_key':'hello'}\n",
        "# Grab 'hello'\n",
        "d['simple_key']"
      ],
      "execution_count": 22,
      "outputs": [
        {
          "output_type": "execute_result",
          "data": {
            "application/vnd.google.colaboratory.intrinsic+json": {
              "type": "string"
            },
            "text/plain": [
              "'hello'"
            ]
          },
          "metadata": {
            "tags": []
          },
          "execution_count": 22
        }
      ]
    },
    {
      "cell_type": "code",
      "metadata": {
        "collapsed": true,
        "colab": {
          "base_uri": "https://localhost:8080/",
          "height": 58
        },
        "id": "0qsOSxX-13vs",
        "outputId": "f3dda307-d351-4803-c0f4-ff7b61a68576"
      },
      "source": [
        "d = {'k1':{'k2':'hello'}}\n",
        "# Grab 'hello'\n",
        "d['k1']['k2']"
      ],
      "execution_count": 23,
      "outputs": [
        {
          "output_type": "execute_result",
          "data": {
            "application/vnd.google.colaboratory.intrinsic+json": {
              "type": "string"
            },
            "text/plain": [
              "'hello'"
            ]
          },
          "metadata": {
            "tags": []
          },
          "execution_count": 23
        }
      ]
    },
    {
      "cell_type": "code",
      "metadata": {
        "collapsed": true,
        "colab": {
          "base_uri": "https://localhost:8080/"
        },
        "id": "mBO0-16h13vs",
        "outputId": "e8d07000-360d-44ad-8f62-3ea05435c49c"
      },
      "source": [
        "# Getting a little tricker\n",
        "d = {'k1':[{'nest_key':['this is deep',['hello']]}]}\n",
        "\n",
        "#Grab hello\n",
        "d['k1'][0]['nest_key'][1]"
      ],
      "execution_count": 26,
      "outputs": [
        {
          "output_type": "execute_result",
          "data": {
            "text/plain": [
              "['hello']"
            ]
          },
          "metadata": {
            "tags": []
          },
          "execution_count": 26
        }
      ]
    },
    {
      "cell_type": "code",
      "metadata": {
        "collapsed": true,
        "colab": {
          "base_uri": "https://localhost:8080/"
        },
        "id": "1F3SQbFG13vt",
        "outputId": "245d6e15-5e27-4ced-dd23-c2cb50e158c3"
      },
      "source": [
        "# This will be hard and annoying!\n",
        "d = {'k1':[1,2,{'k2':['this is tricky',{'tough':[1,2,['hello']]}]}]}\n",
        "d['k1'][2]['k2'][1]['tough'][2]"
      ],
      "execution_count": 28,
      "outputs": [
        {
          "output_type": "execute_result",
          "data": {
            "text/plain": [
              "['hello']"
            ]
          },
          "metadata": {
            "tags": []
          },
          "execution_count": 28
        }
      ]
    },
    {
      "cell_type": "markdown",
      "metadata": {
        "id": "vthC69Bq13vt"
      },
      "source": [
        "Can you sort a dictionary? Why or why not?<br><br>\n",
        "\n",
        "No because they are identified by a key"
      ]
    },
    {
      "cell_type": "markdown",
      "metadata": {
        "id": "X_4ba3E-13vy"
      },
      "source": [
        "## Tuples"
      ]
    },
    {
      "cell_type": "markdown",
      "metadata": {
        "id": "eJA3SfSX13vz"
      },
      "source": [
        "What is the major difference between tuples and lists?<br><br>\n",
        "\n",
        "A list can be mutable and the tuple doesn't"
      ]
    },
    {
      "cell_type": "markdown",
      "metadata": {
        "id": "8VgaUTwZ13v0"
      },
      "source": [
        "How do you create a tuple?<br><br>\n",
        "\n",
        "using parenthesis"
      ]
    },
    {
      "cell_type": "markdown",
      "metadata": {
        "id": "jW9hRbHo13v1"
      },
      "source": [
        "## Sets "
      ]
    },
    {
      "cell_type": "markdown",
      "metadata": {
        "id": "OrZBPXLq13v1"
      },
      "source": [
        "What is unique about a set?<br><br>\n",
        "\n",
        "They values are unique"
      ]
    },
    {
      "cell_type": "markdown",
      "metadata": {
        "id": "W-DJcGTJ13v2"
      },
      "source": [
        "Use a set to find the unique values of the list below:"
      ]
    },
    {
      "cell_type": "code",
      "metadata": {
        "collapsed": true,
        "colab": {
          "base_uri": "https://localhost:8080/"
        },
        "id": "ggMkjTBP13v2",
        "outputId": "9cb2a90a-3c66-420f-92c2-3151c2a76c6c"
      },
      "source": [
        "list5 = [1,2,2,33,4,4,11,22,3,3,2]\n",
        "\n",
        "\n",
        "set(list5)"
      ],
      "execution_count": 29,
      "outputs": [
        {
          "output_type": "execute_result",
          "data": {
            "text/plain": [
              "{1, 2, 3, 4, 11, 22, 33}"
            ]
          },
          "metadata": {
            "tags": []
          },
          "execution_count": 29
        }
      ]
    },
    {
      "cell_type": "markdown",
      "metadata": {
        "id": "5ceL5nhI13v2"
      },
      "source": [
        "## Booleans"
      ]
    },
    {
      "cell_type": "markdown",
      "metadata": {
        "id": "WH3JXzki13v4"
      },
      "source": [
        "For the following quiz questions, we will get a preview of comparison operators. In the table below, a=3 and b=4.\n",
        "\n",
        "<table class=\"table table-bordered\">\n",
        "<tr>\n",
        "<th style=\"width:10%\">Operator</th><th style=\"width:45%\">Description</th><th>Example</th>\n",
        "</tr>\n",
        "<tr>\n",
        "<td>==</td>\n",
        "<td>If the values of two operands are equal, then the condition becomes true.</td>\n",
        "<td> (a == b) is not true.</td>\n",
        "</tr>\n",
        "<tr>\n",
        "<td>!=</td>\n",
        "<td>If values of two operands are not equal, then condition becomes true.</td>\n",
        "<td> (a != b) is true.</td>\n",
        "</tr>\n",
        "<tr>\n",
        "<td>&gt;</td>\n",
        "<td>If the value of left operand is greater than the value of right operand, then condition becomes true.</td>\n",
        "<td> (a &gt; b) is not true.</td>\n",
        "</tr>\n",
        "<tr>\n",
        "<td>&lt;</td>\n",
        "<td>If the value of left operand is less than the value of right operand, then condition becomes true.</td>\n",
        "<td> (a &lt; b) is true.</td>\n",
        "</tr>\n",
        "<tr>\n",
        "<td>&gt;=</td>\n",
        "<td>If the value of left operand is greater than or equal to the value of right operand, then condition becomes true.</td>\n",
        "<td> (a &gt;= b) is not true. </td>\n",
        "</tr>\n",
        "<tr>\n",
        "<td>&lt;=</td>\n",
        "<td>If the value of left operand is less than or equal to the value of right operand, then condition becomes true.</td>\n",
        "<td> (a &lt;= b) is true. </td>\n",
        "</tr>\n",
        "</table>"
      ]
    },
    {
      "cell_type": "markdown",
      "metadata": {
        "id": "4IyDT_cK13v6"
      },
      "source": [
        "What will be the resulting Boolean of the following pieces of code (answer fist then check by typing it in!)"
      ]
    },
    {
      "cell_type": "code",
      "metadata": {
        "collapsed": true,
        "colab": {
          "base_uri": "https://localhost:8080/"
        },
        "id": "UoMhjKHc13v7",
        "outputId": "196363bc-5af5-4898-8f97-f2cf7f3f4846"
      },
      "source": [
        "# Answer before running cell\n",
        "2 > 3"
      ],
      "execution_count": 30,
      "outputs": [
        {
          "output_type": "execute_result",
          "data": {
            "text/plain": [
              "False"
            ]
          },
          "metadata": {
            "tags": []
          },
          "execution_count": 30
        }
      ]
    },
    {
      "cell_type": "code",
      "metadata": {
        "collapsed": true,
        "colab": {
          "base_uri": "https://localhost:8080/"
        },
        "id": "AwrOoB-w13v8",
        "outputId": "34046c42-ae59-4e0e-bf82-7f62797a66e1"
      },
      "source": [
        "# Answer before running cell\n",
        "3 <= 2"
      ],
      "execution_count": 31,
      "outputs": [
        {
          "output_type": "execute_result",
          "data": {
            "text/plain": [
              "False"
            ]
          },
          "metadata": {
            "tags": []
          },
          "execution_count": 31
        }
      ]
    },
    {
      "cell_type": "code",
      "metadata": {
        "collapsed": true,
        "colab": {
          "base_uri": "https://localhost:8080/"
        },
        "id": "ds11qmwi13v8",
        "outputId": "bb64f7fb-a6dc-4b33-e852-0456f4ab495e"
      },
      "source": [
        "# Answer before running cell\n",
        "3 == 2.0"
      ],
      "execution_count": 32,
      "outputs": [
        {
          "output_type": "execute_result",
          "data": {
            "text/plain": [
              "False"
            ]
          },
          "metadata": {
            "tags": []
          },
          "execution_count": 32
        }
      ]
    },
    {
      "cell_type": "code",
      "metadata": {
        "collapsed": true,
        "colab": {
          "base_uri": "https://localhost:8080/"
        },
        "id": "O5SNZplO13v8",
        "outputId": "8e5e7483-69e2-4420-c2d0-ef8495b42c8b"
      },
      "source": [
        "# Answer before running cell\n",
        "3.0 == 3"
      ],
      "execution_count": 33,
      "outputs": [
        {
          "output_type": "execute_result",
          "data": {
            "text/plain": [
              "True"
            ]
          },
          "metadata": {
            "tags": []
          },
          "execution_count": 33
        }
      ]
    },
    {
      "cell_type": "code",
      "metadata": {
        "collapsed": true,
        "colab": {
          "base_uri": "https://localhost:8080/"
        },
        "id": "piqk1are13v9",
        "outputId": "84442771-db77-4403-a046-52731bb623f4"
      },
      "source": [
        "# Answer before running cell\n",
        "4**0.5 != 2"
      ],
      "execution_count": 34,
      "outputs": [
        {
          "output_type": "execute_result",
          "data": {
            "text/plain": [
              "False"
            ]
          },
          "metadata": {
            "tags": []
          },
          "execution_count": 34
        }
      ]
    },
    {
      "cell_type": "markdown",
      "metadata": {
        "id": "gFXh9-2213v9"
      },
      "source": [
        "Final Question: What is the boolean output of the cell block below?"
      ]
    },
    {
      "cell_type": "code",
      "metadata": {
        "collapsed": true,
        "colab": {
          "base_uri": "https://localhost:8080/"
        },
        "id": "EO1lZ7M113v9",
        "outputId": "b649dd5a-4b02-42f9-db76-4f168b185b8e"
      },
      "source": [
        "# two nested lists\n",
        "l_one = [1,2,[3,4]]\n",
        "l_two = [1,2,{'k1':4}]\n",
        "\n",
        "# True or False?\n",
        "l_one[2][0] >= l_two[2]['k1']"
      ],
      "execution_count": 35,
      "outputs": [
        {
          "output_type": "execute_result",
          "data": {
            "text/plain": [
              "False"
            ]
          },
          "metadata": {
            "tags": []
          },
          "execution_count": 35
        }
      ]
    },
    {
      "cell_type": "markdown",
      "metadata": {
        "id": "QyVfZyPT13v9"
      },
      "source": [
        "## Great Job on your first assessment! "
      ]
    }
  ]
}