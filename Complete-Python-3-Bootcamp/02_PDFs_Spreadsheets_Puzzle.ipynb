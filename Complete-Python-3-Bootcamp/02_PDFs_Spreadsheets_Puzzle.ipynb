{
  "nbformat": 4,
  "nbformat_minor": 0,
  "metadata": {
    "anaconda-cloud": {},
    "kernelspec": {
      "display_name": "Python 3",
      "language": "python",
      "name": "python3"
    },
    "language_info": {
      "codemirror_mode": {
        "name": "ipython",
        "version": 3
      },
      "file_extension": ".py",
      "mimetype": "text/x-python",
      "name": "python",
      "nbconvert_exporter": "python",
      "pygments_lexer": "ipython3",
      "version": "3.6.6"
    },
    "colab": {
      "name": "02-PDFs-Spreadsheets-Puzzle.ipynb",
      "provenance": [],
      "toc_visible": true,
      "include_colab_link": true
    }
  },
  "cells": [
    {
      "cell_type": "markdown",
      "metadata": {
        "id": "view-in-github",
        "colab_type": "text"
      },
      "source": [
        "<a href=\"https://colab.research.google.com/github/agus2207/Cursos/blob/master/Complete-Python-3-Bootcamp/02_PDFs_Spreadsheets_Puzzle.ipynb\" target=\"_parent\"><img src=\"https://colab.research.google.com/assets/colab-badge.svg\" alt=\"Open In Colab\"/></a>"
      ]
    },
    {
      "cell_type": "markdown",
      "metadata": {
        "id": "XN3854CLFkFc"
      },
      "source": [
        "___\n",
        "\n",
        "<a href='https://www.udemy.com/user/joseportilla/'><img src='../Pierian_Data_Logo.png'/></a>\n",
        "___\n",
        "<center><em>Content Copyright by Pierian Data</em></center>"
      ]
    },
    {
      "cell_type": "markdown",
      "metadata": {
        "id": "4eM9bA7SFkFf"
      },
      "source": [
        "# PDFs and Spreadsheets Puzzle Exercise\n",
        "\n",
        "Let's test your skills, the files needed for this puzzle exercise\n",
        "\n",
        "You will need to work with two files for this exercise and solve the following tasks:\n",
        "\n",
        "* Task One: Use Python to extract the Google Drive link from the .csv file. (Hint: Its along the diagonal from top left to bottom right).\n",
        "* Task Two: Download the PDF from the Google Drive link (we already downloaded it for you just in case you can't download from Google Drive) and find the phone number that is in the document. Note: There are different ways of formatting a phone number!"
      ]
    },
    {
      "cell_type": "markdown",
      "metadata": {
        "id": "rOVKcOACFkFf"
      },
      "source": [
        "## Task One: Grab the Google Drive Link from .csv File"
      ]
    },
    {
      "cell_type": "code",
      "metadata": {
        "collapsed": true,
        "id": "1NHj_nyIFkFg"
      },
      "source": [
        "import csv"
      ],
      "execution_count": 1,
      "outputs": []
    },
    {
      "cell_type": "code",
      "metadata": {
        "colab": {
          "base_uri": "https://localhost:8080/"
        },
        "id": "vPTCYc4YFkFg",
        "outputId": "596b974f-e955-4d0d-c20b-7ef990246316"
      },
      "source": [
        "data = open('/content/find_the_link.csv', 'r', encoding=\"utf-8\")\n",
        "csv_data = csv.reader(data)\n",
        "data_lines = list(csv_data)\n",
        "track = 0\n",
        "link = ''\n",
        "for line in data_lines:\n",
        "    link += line[track]\n",
        "    track += 1\n",
        "print(link)"
      ],
      "execution_count": 2,
      "outputs": [
        {
          "output_type": "stream",
          "text": [
            "https://drive.google.com/open?id=1G6SEgg018UB4_4xsAJJ5TdzrhmXipr4Q\n"
          ],
          "name": "stdout"
        }
      ]
    },
    {
      "cell_type": "markdown",
      "metadata": {
        "id": "qYLW6fCUFkFh"
      },
      "source": [
        "## Task Two: Download the PDF from the Google Drive link and find the phone number that is in the document. "
      ]
    },
    {
      "cell_type": "code",
      "metadata": {
        "id": "f8z9WwsiJqhS"
      },
      "source": [
        "#!pip install PyPDF2 \n",
        "import PyPDF2\n",
        "import re"
      ],
      "execution_count": 3,
      "outputs": []
    },
    {
      "cell_type": "code",
      "metadata": {
        "collapsed": true,
        "colab": {
          "base_uri": "https://localhost:8080/"
        },
        "id": "evI9gf3nFkFh",
        "outputId": "01d04b74-916a-4349-cde0-086faf84bb4d"
      },
      "source": [
        "f = open('/content/Find_the_Phone_Number.pdf','rb')\n",
        "pdf_reader = PyPDF2.PdfFileReader(f)\n",
        "pattern = r'\\d{3}\\.\\d{3}\\.\\d{4}'\n",
        "for page in range(pdf_reader.numPages):\n",
        "    text = pdf_reader.getPage(page).extractText()\n",
        "    matches = re.findall(pattern, text)\n",
        "    if len(matches) > 0:\n",
        "        print(\"Phone found\")\n",
        "        print(matches)"
      ],
      "execution_count": 4,
      "outputs": [
        {
          "output_type": "stream",
          "text": [
            "Phone found\n",
            "['505.503.4455']\n"
          ],
          "name": "stdout"
        }
      ]
    }
  ]
}