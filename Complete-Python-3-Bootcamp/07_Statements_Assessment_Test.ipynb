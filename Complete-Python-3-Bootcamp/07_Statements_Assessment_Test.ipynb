{
  "nbformat": 4,
  "nbformat_minor": 0,
  "metadata": {
    "kernelspec": {
      "display_name": "Python 3",
      "language": "python",
      "name": "python3"
    },
    "language_info": {
      "codemirror_mode": {
        "name": "ipython",
        "version": 3
      },
      "file_extension": ".py",
      "mimetype": "text/x-python",
      "name": "python",
      "nbconvert_exporter": "python",
      "pygments_lexer": "ipython3",
      "version": "3.6.6"
    },
    "colab": {
      "name": "07-Statements Assessment Test.ipynb",
      "provenance": [],
      "include_colab_link": true
    }
  },
  "cells": [
    {
      "cell_type": "markdown",
      "metadata": {
        "id": "view-in-github",
        "colab_type": "text"
      },
      "source": [
        "<a href=\"https://colab.research.google.com/github/agus2207/Cursos/blob/master/Complete-Python-3-Bootcamp/07_Statements_Assessment_Test.ipynb\" target=\"_parent\"><img src=\"https://colab.research.google.com/assets/colab-badge.svg\" alt=\"Open In Colab\"/></a>"
      ]
    },
    {
      "cell_type": "markdown",
      "metadata": {
        "id": "c5wInm1rtqj8"
      },
      "source": [
        "___\n",
        "\n",
        "<a href='https://www.udemy.com/user/joseportilla/'><img src='../Pierian_Data_Logo.png'/></a>\n",
        "___\n",
        "<center><em>Content Copyright by Pierian Data</em></center>"
      ]
    },
    {
      "cell_type": "markdown",
      "metadata": {
        "collapsed": true,
        "id": "dhN9MoBttqj-"
      },
      "source": [
        "# Statements Assessment Test\n",
        "Let's test your knowledge!"
      ]
    },
    {
      "cell_type": "markdown",
      "metadata": {
        "id": "LhQhEoXGtqj_"
      },
      "source": [
        "_____\n",
        "**Use <code>for</code>, .split(), and <code>if</code> to create a Statement that will print out words that start with 's':**"
      ]
    },
    {
      "cell_type": "code",
      "metadata": {
        "collapsed": true,
        "id": "ffxobOKgtqj_"
      },
      "source": [
        "st = 'Print only the words that start with s in this sentence'"
      ],
      "execution_count": 1,
      "outputs": []
    },
    {
      "cell_type": "code",
      "metadata": {
        "collapsed": true,
        "colab": {
          "base_uri": "https://localhost:8080/"
        },
        "id": "S7TdF_dhtqkA",
        "outputId": "cb153a63-9a30-4f41-97df-3c385537d7a0"
      },
      "source": [
        "#Code here\n",
        "list1 = st.split()\n",
        "for item in list1:\n",
        "  if item[0] == 's':\n",
        "    print(item)"
      ],
      "execution_count": 2,
      "outputs": [
        {
          "output_type": "stream",
          "text": [
            "start\n",
            "s\n",
            "sentence\n"
          ],
          "name": "stdout"
        }
      ]
    },
    {
      "cell_type": "markdown",
      "metadata": {
        "id": "-BZNY1JNtqkA"
      },
      "source": [
        "______\n",
        "**Use range() to print all the even numbers from 0 to 10.**"
      ]
    },
    {
      "cell_type": "code",
      "metadata": {
        "collapsed": true,
        "colab": {
          "base_uri": "https://localhost:8080/"
        },
        "id": "wck75NwOtqkA",
        "outputId": "c1e367b3-8f38-4327-efe2-2114e99f1035"
      },
      "source": [
        "#Code Here\n",
        "for num in range(0,10):\n",
        "  if num%2 == 0:\n",
        "    print(num)"
      ],
      "execution_count": 3,
      "outputs": [
        {
          "output_type": "stream",
          "text": [
            "0\n",
            "2\n",
            "4\n",
            "6\n",
            "8\n"
          ],
          "name": "stdout"
        }
      ]
    },
    {
      "cell_type": "markdown",
      "metadata": {
        "id": "npj3SDRntqkB"
      },
      "source": [
        "___\n",
        "**Use a List Comprehension to create a list of all numbers between 1 and 50 that are divisible by 3.**"
      ]
    },
    {
      "cell_type": "code",
      "metadata": {
        "collapsed": true,
        "colab": {
          "base_uri": "https://localhost:8080/"
        },
        "id": "wZ9xNjhHtqkB",
        "outputId": "0e516783-9ad7-4534-ba08-a9e149cdf619"
      },
      "source": [
        "#Code in this cell\n",
        "list2 = [x for x in range(1,50) if x%3 == 0]\n",
        "list2"
      ],
      "execution_count": 4,
      "outputs": [
        {
          "output_type": "execute_result",
          "data": {
            "text/plain": [
              "[3, 6, 9, 12, 15, 18, 21, 24, 27, 30, 33, 36, 39, 42, 45, 48]"
            ]
          },
          "metadata": {
            "tags": []
          },
          "execution_count": 4
        }
      ]
    },
    {
      "cell_type": "markdown",
      "metadata": {
        "id": "JI-Xv5gptqkB"
      },
      "source": [
        "_____\n",
        "**Go through the string below and if the length of a word is even print \"even!\"**"
      ]
    },
    {
      "cell_type": "code",
      "metadata": {
        "collapsed": true,
        "id": "RM8ZnfoptqkC"
      },
      "source": [
        "st = 'Print every word in this sentence that has an even number of letters'"
      ],
      "execution_count": 6,
      "outputs": []
    },
    {
      "cell_type": "code",
      "metadata": {
        "collapsed": true,
        "colab": {
          "base_uri": "https://localhost:8080/"
        },
        "id": "VFA-agxetqkC",
        "outputId": "3a6ca76f-5a50-4005-b7ea-85cfc77f561d"
      },
      "source": [
        "#Code in this cell\n",
        "list3 = st.split()\n",
        "for word in list3:\n",
        "  if len(word)%2 == 0:\n",
        "    print('even:', word)"
      ],
      "execution_count": 9,
      "outputs": [
        {
          "output_type": "stream",
          "text": [
            "even: word\n",
            "even: in\n",
            "even: this\n",
            "even: sentence\n",
            "even: that\n",
            "even: an\n",
            "even: even\n",
            "even: number\n",
            "even: of\n"
          ],
          "name": "stdout"
        }
      ]
    },
    {
      "cell_type": "markdown",
      "metadata": {
        "id": "xNi3ZZYutqkC"
      },
      "source": [
        "____\n",
        "**Write a program that prints the integers from 1 to 100. But for multiples of three print \"Fizz\" instead of the number, and for the multiples of five print \"Buzz\". For numbers which are multiples of both three and five print \"FizzBuzz\".**"
      ]
    },
    {
      "cell_type": "code",
      "metadata": {
        "collapsed": true,
        "colab": {
          "base_uri": "https://localhost:8080/"
        },
        "id": "4MyhbtDwtqkC",
        "outputId": "3b7a52f1-9a14-481c-aeca-778c3fb301f8"
      },
      "source": [
        "#Code in this cell\n",
        "for x in range (1,100):\n",
        "  if x%3 == 0 and x%5 == 0:\n",
        "    print(x, \"FizzBuzz\")\n",
        "  elif x%3 == 0:\n",
        "    print(x, \"Fizz\")\n",
        "  elif x%5 == 0:\n",
        "    print(x, \"Buzz\")"
      ],
      "execution_count": 11,
      "outputs": [
        {
          "output_type": "stream",
          "text": [
            "3 Fizz\n",
            "5 Buzz\n",
            "6 Fizz\n",
            "9 Fizz\n",
            "10 Buzz\n",
            "12 Fizz\n",
            "15 FizzBuzz\n",
            "18 Fizz\n",
            "20 Buzz\n",
            "21 Fizz\n",
            "24 Fizz\n",
            "25 Buzz\n",
            "27 Fizz\n",
            "30 FizzBuzz\n",
            "33 Fizz\n",
            "35 Buzz\n",
            "36 Fizz\n",
            "39 Fizz\n",
            "40 Buzz\n",
            "42 Fizz\n",
            "45 FizzBuzz\n",
            "48 Fizz\n",
            "50 Buzz\n",
            "51 Fizz\n",
            "54 Fizz\n",
            "55 Buzz\n",
            "57 Fizz\n",
            "60 FizzBuzz\n",
            "63 Fizz\n",
            "65 Buzz\n",
            "66 Fizz\n",
            "69 Fizz\n",
            "70 Buzz\n",
            "72 Fizz\n",
            "75 FizzBuzz\n",
            "78 Fizz\n",
            "80 Buzz\n",
            "81 Fizz\n",
            "84 Fizz\n",
            "85 Buzz\n",
            "87 Fizz\n",
            "90 FizzBuzz\n",
            "93 Fizz\n",
            "95 Buzz\n",
            "96 Fizz\n",
            "99 Fizz\n"
          ],
          "name": "stdout"
        }
      ]
    },
    {
      "cell_type": "markdown",
      "metadata": {
        "id": "_-SEv5mctqkD"
      },
      "source": [
        "____\n",
        "**Use List Comprehension to create a list of the first letters of every word in the string below:**"
      ]
    },
    {
      "cell_type": "code",
      "metadata": {
        "collapsed": true,
        "id": "SaQtp9s6tqkD"
      },
      "source": [
        "st = 'Create a list of the first letters of every word in this string'"
      ],
      "execution_count": 12,
      "outputs": []
    },
    {
      "cell_type": "code",
      "metadata": {
        "collapsed": true,
        "colab": {
          "base_uri": "https://localhost:8080/"
        },
        "id": "hu-wGNAutqkD",
        "outputId": "1d741c6f-1e51-47f4-e1a0-6ac1475c5182"
      },
      "source": [
        "#Code in this cell\n",
        "list4 = [word[0] for word in st.split()]\n",
        "list4"
      ],
      "execution_count": 17,
      "outputs": [
        {
          "output_type": "execute_result",
          "data": {
            "text/plain": [
              "['C', 'a', 'l', 'o', 't', 'f', 'l', 'o', 'e', 'w', 'i', 't', 's']"
            ]
          },
          "metadata": {
            "tags": []
          },
          "execution_count": 17
        }
      ]
    },
    {
      "cell_type": "markdown",
      "metadata": {
        "id": "oHc5GRMCtqkE"
      },
      "source": [
        "### Great Job!"
      ]
    }
  ]
}