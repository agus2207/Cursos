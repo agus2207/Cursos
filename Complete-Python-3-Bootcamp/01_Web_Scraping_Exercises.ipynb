{
  "nbformat": 4,
  "nbformat_minor": 0,
  "metadata": {
    "kernelspec": {
      "display_name": "Python 3",
      "language": "python",
      "name": "python3"
    },
    "language_info": {
      "codemirror_mode": {
        "name": "ipython",
        "version": 3
      },
      "file_extension": ".py",
      "mimetype": "text/x-python",
      "name": "python",
      "nbconvert_exporter": "python",
      "pygments_lexer": "ipython3",
      "version": "3.6.6"
    },
    "colab": {
      "name": "01-Web-Scraping-Exercises.ipynb",
      "provenance": [],
      "include_colab_link": true
    }
  },
  "cells": [
    {
      "cell_type": "markdown",
      "metadata": {
        "id": "view-in-github",
        "colab_type": "text"
      },
      "source": [
        "<a href=\"https://colab.research.google.com/github/agus2207/Cursos/blob/master/Complete-Python-3-Bootcamp/01_Web_Scraping_Exercises.ipynb\" target=\"_parent\"><img src=\"https://colab.research.google.com/assets/colab-badge.svg\" alt=\"Open In Colab\"/></a>"
      ]
    },
    {
      "cell_type": "markdown",
      "metadata": {
        "id": "73ew3PB9ZvuN"
      },
      "source": [
        "___\n",
        "\n",
        "<a href='https://www.udemy.com/user/joseportilla/'><img src='../Pierian_Data_Logo.png'/></a>\n",
        "___\n",
        "<center><em>Content Copyright by Pierian Data</em></center>"
      ]
    },
    {
      "cell_type": "markdown",
      "metadata": {
        "id": "Eih9x4HnZvuP"
      },
      "source": [
        "# Web Scraping Exercises \n",
        "\n",
        "## Complete the Tasks Below"
      ]
    },
    {
      "cell_type": "markdown",
      "metadata": {
        "id": "tAb76COVZvuQ"
      },
      "source": [
        "**TASK: Import any libraries you think you'll need to scrape a website.**"
      ]
    },
    {
      "cell_type": "code",
      "metadata": {
        "collapsed": true,
        "id": "jcKap6hrZvuQ"
      },
      "source": [
        "import requests\n",
        "import bs4"
      ],
      "execution_count": 1,
      "outputs": []
    },
    {
      "cell_type": "markdown",
      "metadata": {
        "id": "ADi_vQUzZvuR"
      },
      "source": [
        "**TASK: Use requests library and BeautifulSoup to connect to http://quotes.toscrape.com/ and get the HMTL text from the homepage.**"
      ]
    },
    {
      "cell_type": "code",
      "metadata": {
        "collapsed": true,
        "id": "q0FpQVpXZvuS"
      },
      "source": [
        "res = requests.get(\"http://quotes.toscrape.com/\")"
      ],
      "execution_count": 2,
      "outputs": []
    },
    {
      "cell_type": "code",
      "metadata": {
        "collapsed": true,
        "id": "xKzsAIZmZvuS"
      },
      "source": [
        "soup = bs4.BeautifulSoup(res.text,\"lxml\")"
      ],
      "execution_count": 3,
      "outputs": []
    },
    {
      "cell_type": "markdown",
      "metadata": {
        "id": "cJ0QkA24ZvuT"
      },
      "source": [
        "**TASK: Get the names of all the authors on the first page.**"
      ]
    },
    {
      "cell_type": "code",
      "metadata": {
        "collapsed": true,
        "id": "XW88nhAVZvuU"
      },
      "source": [
        "authors = set()\n",
        "for name in soup.select(\"small\"):\n",
        "    authors.add(name.text)"
      ],
      "execution_count": 4,
      "outputs": []
    },
    {
      "cell_type": "code",
      "metadata": {
        "colab": {
          "base_uri": "https://localhost:8080/"
        },
        "id": "3UIJuqNzZvuU",
        "outputId": "4eecb6c2-8af2-41e5-c803-dc4909d949c3"
      },
      "source": [
        "authors"
      ],
      "execution_count": 5,
      "outputs": [
        {
          "output_type": "execute_result",
          "data": {
            "text/plain": [
              "{'Albert Einstein',\n",
              " 'André Gide',\n",
              " 'Eleanor Roosevelt',\n",
              " 'J.K. Rowling',\n",
              " 'Jane Austen',\n",
              " 'Marilyn Monroe',\n",
              " 'Steve Martin',\n",
              " 'Thomas A. Edison'}"
            ]
          },
          "metadata": {
            "tags": []
          },
          "execution_count": 5
        }
      ]
    },
    {
      "cell_type": "markdown",
      "metadata": {
        "id": "hW8EpoPDZvuV"
      },
      "source": [
        "**TASK: Create a list of all the quotes on the first page.**"
      ]
    },
    {
      "cell_type": "code",
      "metadata": {
        "collapsed": true,
        "id": "XDqWyxYuZvuV"
      },
      "source": [
        "quotes = []\n",
        "for quote in soup.select(\".text\"):\n",
        "    quotes.append(quote.text)"
      ],
      "execution_count": 6,
      "outputs": []
    },
    {
      "cell_type": "code",
      "metadata": {
        "colab": {
          "base_uri": "https://localhost:8080/"
        },
        "id": "hkVPRvaPZvuW",
        "outputId": "f0b90488-2883-4b96-9750-5e183a995df0"
      },
      "source": [
        "quotes"
      ],
      "execution_count": 7,
      "outputs": [
        {
          "output_type": "execute_result",
          "data": {
            "text/plain": [
              "['“The world as we have created it is a process of our thinking. It cannot be changed without changing our thinking.”',\n",
              " '“It is our choices, Harry, that show what we truly are, far more than our abilities.”',\n",
              " '“There are only two ways to live your life. One is as though nothing is a miracle. The other is as though everything is a miracle.”',\n",
              " '“The person, be it gentleman or lady, who has not pleasure in a good novel, must be intolerably stupid.”',\n",
              " \"“Imperfection is beauty, madness is genius and it's better to be absolutely ridiculous than absolutely boring.”\",\n",
              " '“Try not to become a man of success. Rather become a man of value.”',\n",
              " '“It is better to be hated for what you are than to be loved for what you are not.”',\n",
              " \"“I have not failed. I've just found 10,000 ways that won't work.”\",\n",
              " \"“A woman is like a tea bag; you never know how strong it is until it's in hot water.”\",\n",
              " '“A day without sunshine is like, you know, night.”']"
            ]
          },
          "metadata": {
            "tags": []
          },
          "execution_count": 7
        }
      ]
    },
    {
      "cell_type": "markdown",
      "metadata": {
        "id": "Q9cX4nkuZvuW"
      },
      "source": [
        "**TASK: Inspect the site and use Beautiful Soup to extract the top ten tags from the requests text shown on the top right from the home page (e.g Love,Inspirational,Life, etc...). HINT: Keep in mind there are also tags underneath each quote, try to find a class only present in the top right tags, perhaps check the span.**"
      ]
    },
    {
      "cell_type": "code",
      "metadata": {
        "collapsed": true,
        "colab": {
          "base_uri": "https://localhost:8080/"
        },
        "id": "rDThzGT2ZvuX",
        "outputId": "b61890df-0b1d-4cb4-deb1-2298f5738cd3"
      },
      "source": [
        "for tag in soup.select(\".tag-item\"):\n",
        "    print(tag.text)"
      ],
      "execution_count": 8,
      "outputs": [
        {
          "output_type": "stream",
          "text": [
            "\n",
            "love\n",
            "\n",
            "\n",
            "inspirational\n",
            "\n",
            "\n",
            "life\n",
            "\n",
            "\n",
            "humor\n",
            "\n",
            "\n",
            "books\n",
            "\n",
            "\n",
            "reading\n",
            "\n",
            "\n",
            "friendship\n",
            "\n",
            "\n",
            "friends\n",
            "\n",
            "\n",
            "truth\n",
            "\n",
            "\n",
            "simile\n",
            "\n"
          ],
          "name": "stdout"
        }
      ]
    },
    {
      "cell_type": "markdown",
      "metadata": {
        "id": "eTBV3LXKZvuY"
      },
      "source": [
        "**TASK: Notice how there is more than one page, and subsequent pages look like this http://quotes.toscrape.com/page/2/. Use what you know about for loops and string concatenation to loop through all the pages and get all the unique authors on the website. Keep in mind there are many ways to achieve this, also note that you will need to somehow figure out how to check that your loop is on the last page with quotes. For debugging purposes, I will let you know that there are only 10 pages, so the last page is http://quotes.toscrape.com/page/10/, but try to create a loop that is robust enough that it wouldn't matter to know the amount of pages beforehand, perhaps use try/except for this, its up to you!**"
      ]
    },
    {
      "cell_type": "code",
      "metadata": {
        "collapsed": true,
        "id": "_2ZN2mUWZvuY"
      },
      "source": [
        "base_url = 'http://quotes.toscrape.com/page/{}/'\n",
        "count = 1\n",
        "authors = set()\n",
        "while True:\n",
        "    res = requests.get(base_url.format(count))\n",
        "    if \"No quotes found!\" in res.text:\n",
        "        break\n",
        "    soup = bs4.BeautifulSoup(res.text,\"lxml\")\n",
        "    count += 1\n",
        "    for name in soup.select(\"small\"):\n",
        "        authors.add(name.text)"
      ],
      "execution_count": 9,
      "outputs": []
    },
    {
      "cell_type": "code",
      "metadata": {
        "colab": {
          "base_uri": "https://localhost:8080/"
        },
        "id": "6zJgczzbrdJT",
        "outputId": "4a34b0d7-7cd0-44aa-c9ae-dbe3728fbfe7"
      },
      "source": [
        "authors"
      ],
      "execution_count": 10,
      "outputs": [
        {
          "output_type": "execute_result",
          "data": {
            "text/plain": [
              "{'Albert Einstein',\n",
              " 'Alexandre Dumas fils',\n",
              " 'Alfred Tennyson',\n",
              " 'Allen Saunders',\n",
              " 'André Gide',\n",
              " 'Ayn Rand',\n",
              " 'Bob Marley',\n",
              " 'C.S. Lewis',\n",
              " 'Charles Bukowski',\n",
              " 'Charles M. Schulz',\n",
              " 'Douglas Adams',\n",
              " 'Dr. Seuss',\n",
              " 'E.E. Cummings',\n",
              " 'Eleanor Roosevelt',\n",
              " 'Elie Wiesel',\n",
              " 'Ernest Hemingway',\n",
              " 'Friedrich Nietzsche',\n",
              " 'Garrison Keillor',\n",
              " 'George Bernard Shaw',\n",
              " 'George Carlin',\n",
              " 'George Eliot',\n",
              " 'George R.R. Martin',\n",
              " 'Harper Lee',\n",
              " 'Haruki Murakami',\n",
              " 'Helen Keller',\n",
              " 'J.D. Salinger',\n",
              " 'J.K. Rowling',\n",
              " 'J.M. Barrie',\n",
              " 'J.R.R. Tolkien',\n",
              " 'James Baldwin',\n",
              " 'Jane Austen',\n",
              " 'Jim Henson',\n",
              " 'Jimi Hendrix',\n",
              " 'John Lennon',\n",
              " 'Jorge Luis Borges',\n",
              " 'Khaled Hosseini',\n",
              " \"Madeleine L'Engle\",\n",
              " 'Marilyn Monroe',\n",
              " 'Mark Twain',\n",
              " 'Martin Luther King Jr.',\n",
              " 'Mother Teresa',\n",
              " 'Pablo Neruda',\n",
              " 'Ralph Waldo Emerson',\n",
              " 'Stephenie Meyer',\n",
              " 'Steve Martin',\n",
              " 'Suzanne Collins',\n",
              " 'Terry Pratchett',\n",
              " 'Thomas A. Edison',\n",
              " 'W.C. Fields',\n",
              " 'William Nicholson'}"
            ]
          },
          "metadata": {
            "tags": []
          },
          "execution_count": 10
        }
      ]
    },
    {
      "cell_type": "markdown",
      "metadata": {
        "id": "VQaQqxhVZvuZ"
      },
      "source": [
        "There are lots of other potential solutions that are even more robust and flexible, the main idea is the same though, use a while loop to cycle through potential pages and have a break condition based on the invalid page."
      ]
    }
  ]
}