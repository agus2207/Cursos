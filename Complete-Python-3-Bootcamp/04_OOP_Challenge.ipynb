{
  "nbformat": 4,
  "nbformat_minor": 0,
  "metadata": {
    "kernelspec": {
      "display_name": "Python 3",
      "language": "python",
      "name": "python3"
    },
    "language_info": {
      "codemirror_mode": {
        "name": "ipython",
        "version": 3
      },
      "file_extension": ".py",
      "mimetype": "text/x-python",
      "name": "python",
      "nbconvert_exporter": "python",
      "pygments_lexer": "ipython3",
      "version": "3.6.6"
    },
    "colab": {
      "name": "04-OOP Challenge.ipynb",
      "provenance": [],
      "include_colab_link": true
    }
  },
  "cells": [
    {
      "cell_type": "markdown",
      "metadata": {
        "id": "view-in-github",
        "colab_type": "text"
      },
      "source": [
        "<a href=\"https://colab.research.google.com/github/agus2207/Cursos/blob/master/Complete-Python-3-Bootcamp/04_OOP_Challenge.ipynb\" target=\"_parent\"><img src=\"https://colab.research.google.com/assets/colab-badge.svg\" alt=\"Open In Colab\"/></a>"
      ]
    },
    {
      "cell_type": "markdown",
      "metadata": {
        "id": "Q75cX4D7Rjvo"
      },
      "source": [
        "___\n",
        "\n",
        "<a href='https://www.udemy.com/user/joseportilla/'><img src='../Pierian_Data_Logo.png'/></a>\n",
        "___\n",
        "<center><em>Content Copyright by Pierian Data</em></center>"
      ]
    },
    {
      "cell_type": "markdown",
      "metadata": {
        "id": "yD80qwN3Rjvr"
      },
      "source": [
        "# Object Oriented Programming Challenge\n",
        "\n",
        "For this challenge, create a bank account class that has two attributes:\n",
        "\n",
        "* owner\n",
        "* balance\n",
        "\n",
        "and two methods:\n",
        "\n",
        "* deposit\n",
        "* withdraw\n",
        "\n",
        "As an added requirement, withdrawals may not exceed the available balance.\n",
        "\n",
        "Instantiate your class, make several deposits and withdrawals, and test to make sure the account can't be overdrawn."
      ]
    },
    {
      "cell_type": "code",
      "metadata": {
        "collapsed": true,
        "id": "MABpa4f4Rjvs"
      },
      "source": [
        "class Account:\n",
        "    def __init__(self, owner, balance):\n",
        "        self.owner = owner\n",
        "        self.balance = balance\n",
        "    \n",
        "    def __str__(self):\n",
        "        info = f\"Account owner: {self.owner}\\nAccount balance: ${self.balance}\"\n",
        "        return info\n",
        "    \n",
        "    def deposit(self, value):\n",
        "        print(\"Deposit Accepted\")\n",
        "        self.balance = self.balance + value\n",
        "\n",
        "    def withdraw(self, value):\n",
        "        if self.balance - value < 0:\n",
        "            print(\"Funds Unavailable!\")\n",
        "        else:\n",
        "            self.balance = self.balance - value\n",
        "            print(\"Withdrawal Accepted\")"
      ],
      "execution_count": 1,
      "outputs": []
    },
    {
      "cell_type": "code",
      "metadata": {
        "collapsed": true,
        "id": "GT5fi-DKRjvt"
      },
      "source": [
        "# 1. Instantiate the class\n",
        "acct1 = Account('Jose',100)"
      ],
      "execution_count": 2,
      "outputs": []
    },
    {
      "cell_type": "code",
      "metadata": {
        "colab": {
          "base_uri": "https://localhost:8080/"
        },
        "id": "9G-y9YPfRjvu",
        "outputId": "f53249d5-fee4-448c-82de-3f187f67016c"
      },
      "source": [
        "# 2. Print the object\n",
        "print(acct1)"
      ],
      "execution_count": 3,
      "outputs": [
        {
          "output_type": "stream",
          "text": [
            "Account owner: Jose\n",
            "Account balance: $100\n"
          ],
          "name": "stdout"
        }
      ]
    },
    {
      "cell_type": "code",
      "metadata": {
        "colab": {
          "base_uri": "https://localhost:8080/",
          "height": 58
        },
        "id": "SmmYLr7PRjvv",
        "outputId": "8d054ec7-610f-48c5-b397-e42ea199b2ef"
      },
      "source": [
        "# 3. Show the account owner attribute\n",
        "acct1.owner"
      ],
      "execution_count": 4,
      "outputs": [
        {
          "output_type": "execute_result",
          "data": {
            "application/vnd.google.colaboratory.intrinsic+json": {
              "type": "string"
            },
            "text/plain": [
              "'Jose'"
            ]
          },
          "metadata": {
            "tags": []
          },
          "execution_count": 4
        }
      ]
    },
    {
      "cell_type": "code",
      "metadata": {
        "colab": {
          "base_uri": "https://localhost:8080/"
        },
        "id": "lXHGNIGoRjvw",
        "outputId": "c4b6a3e8-9d91-449f-c0ac-d4e8fc6099ba"
      },
      "source": [
        "# 4. Show the account balance attribute\n",
        "acct1.balance"
      ],
      "execution_count": 5,
      "outputs": [
        {
          "output_type": "execute_result",
          "data": {
            "text/plain": [
              "100"
            ]
          },
          "metadata": {
            "tags": []
          },
          "execution_count": 5
        }
      ]
    },
    {
      "cell_type": "code",
      "metadata": {
        "colab": {
          "base_uri": "https://localhost:8080/"
        },
        "id": "jfu0KpxuRjvx",
        "outputId": "341c8baa-da22-4e4a-fb89-c7a1a499db3e"
      },
      "source": [
        "# 5. Make a series of deposits and withdrawals\n",
        "acct1.deposit(50)"
      ],
      "execution_count": 6,
      "outputs": [
        {
          "output_type": "stream",
          "text": [
            "Deposit Accepted\n"
          ],
          "name": "stdout"
        }
      ]
    },
    {
      "cell_type": "code",
      "metadata": {
        "colab": {
          "base_uri": "https://localhost:8080/"
        },
        "id": "3Mx1rgHIRjvy",
        "outputId": "e1ce97d3-c937-40af-d18c-ed4cf89af879"
      },
      "source": [
        "acct1.withdraw(75)"
      ],
      "execution_count": 7,
      "outputs": [
        {
          "output_type": "stream",
          "text": [
            "Withdrawal Accepted\n"
          ],
          "name": "stdout"
        }
      ]
    },
    {
      "cell_type": "code",
      "metadata": {
        "colab": {
          "base_uri": "https://localhost:8080/"
        },
        "id": "Mvp7tnbjRjv0",
        "outputId": "9af74422-68bc-4bd5-defc-102d602806fc"
      },
      "source": [
        "# 6. Make a withdrawal that exceeds the available balance\n",
        "acct1.withdraw(500)"
      ],
      "execution_count": 8,
      "outputs": [
        {
          "output_type": "stream",
          "text": [
            "Funds Unavailable!\n"
          ],
          "name": "stdout"
        }
      ]
    },
    {
      "cell_type": "markdown",
      "metadata": {
        "id": "R9NU0aWeRjv1"
      },
      "source": [
        "## Good job!"
      ]
    }
  ]
}